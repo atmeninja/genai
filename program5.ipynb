{
  "nbformat": 4,
  "nbformat_minor": 0,
  "metadata": {
    "colab": {
      "provenance": []
    },
    "kernelspec": {
      "name": "python3",
      "display_name": "Python 3"
    },
    "language_info": {
      "name": "python"
    }
  },
  "cells": [
    {
      "cell_type": "code",
      "execution_count": null,
      "metadata": {
        "id": "i4civTHyPknS"
      },
      "outputs": [],
      "source": [
        "from sentence_transformers import SentenceTransformer, util\n",
        "\n",
        "model = SentenceTransformer('all-MiniLM-L6-v2')\n",
        "\n",
        "corpus = [\n",
        "    \"The stock market saw significant gains today, driven by strong earnings reports.\",\n",
        "    \"Investing in diversified portfolios helps mitigate risk and maximize returns.\",\n",
        "    \"The Federal Reserve's decision to raise interest rates could impact market liquidity.\",\n",
        "    \"Cryptocurrency has become an increasingly popular asset class among investors.\",\n",
        "    \"Financial analysts predict that the global economy will face challenges in the coming years.\",\n",
        "    \"Bonds are considered a safer investment option compared to stocks.\",\n",
        "    \"Banks are adopting blockchain technology to improve the efficiency of financial transactions.\",\n",
        "    \"The economic impact of the pandemic has been severe, but recovery is underway.\",\n",
        "    \"Inflation rates have been rising steadily, leading to higher costs for consumers.\",\n",
        "    \"Corporate governance and transparency are crucial for investor confidence.\",\n",
        "    \"The real estate market is experiencing a boom as demand outstrips supply in many areas.\",\n",
        "    \"Investors should be aware of market volatility and adjust their strategies accordingly.\",\n",
        "    \"Diversification is a key principle in reducing risk in investment portfolios.\",\n",
        "    \"Hedge funds use complex strategies to generate high returns, often with higher risks.\",\n",
        "    \"Stock buybacks are often seen as a sign of confidence by corporate executives.\"\n",
        "]\n",
        "\n",
        "corpus_embeddings = model.encode(corpus, convert_to_tensor=True)\n",
        "corpus_embeddings"
      ]
    },
    {
      "cell_type": "code",
      "source": [
        "def generate_paragraph(seed_word, corpus, corpus_embeddings, model, top_n=5):\n",
        "    seed_sentence = f\"Tell me more about {seed_word} in finance.\"\n",
        "    seed_embedding = model.encode(seed_sentence, convert_to_tensor=True)\n",
        "\n",
        "\n",
        "    similarities = util.pytorch_cos_sim(seed_embedding, corpus_embeddings)[0]\n",
        "    top_results = similarities.topk(top_n)\n",
        "    print('top_results:',top_results)\n",
        "    story = f\"The topic of '{seed_word}' is crucial in the finance industry. \"\n",
        "\n",
        "    for idx in top_results.indices:\n",
        "        similar_sentence = corpus[idx]\n",
        "        story += f\"{similar_sentence} \"\n",
        "    story += f\"These concepts highlight the importance of {seed_word} in understanding financial markets and investment strategies.\"\n",
        "    return story\n",
        "\n",
        "seed_word = \"bonds\"\n",
        "story = generate_paragraph(seed_word, corpus, corpus_embeddings, model, top_n=5)\n",
        "print(story)"
      ],
      "metadata": {
        "id": "RNN6105SP7Ff"
      },
      "execution_count": null,
      "outputs": []
    }
  ]
}