{
  "nbformat": 4,
  "nbformat_minor": 0,
  "metadata": {
    "colab": {
      "provenance": []
    },
    "kernelspec": {
      "name": "python3",
      "display_name": "Python 3"
    },
    "language_info": {
      "name": "python"
    }
  },
  "cells": [
    {
      "cell_type": "code",
      "execution_count": null,
      "metadata": {
        "id": "qpbTBWXlKq2F"
      },
      "outputs": [],
      "source": [
        "from gensim.models import Word2Vec\n",
        "from gensim.utils import simple_preprocess\n",
        "from sklearn.decomposition import PCA\n",
        "import matplotlib.pyplot as plt\n",
        "legal_corpus = [\n",
        "  \"The court ruled in favor of the plaintiff.\",\n",
        "  \"The defendant was found guilty of negligence.\",\n",
        "  \"A breach of contract case was filed.\",\n",
        "  \"The agreement between parties must be honored.\",\n",
        "  \"The lawyer presented compelling evidence.\",\n",
        "  \"Legal documents must be drafted carefully.\",\n",
        "  \"The jury deliberated for several hours.\",\n",
        "  \"A settlement was reached between the parties.\",\n",
        "  \"The plaintiff claimed damages for losses incurred.\",\n",
        "  \"The contract outlined the obligations of both parties.\"\n",
        "]\n",
        "\n",
        "tokenized_corpus = [simple_preprocess(sentence) for sentence in\n",
        "legal_corpus]\n",
        "\n",
        "legal_word2vec = Word2Vec(\n",
        "    sentences=tokenized_corpus,\n",
        "    vector_size=50,\n",
        "    window=3,\n",
        "    min_count=1,\n",
        "    sg=1,\n",
        "    epochs=100\n",
        ")\n",
        "\n",
        "legal_word2vec.save(\"legal_word2vec.model\")\n",
        "\n",
        "word = \"lawyer\"\n",
        "if word in legal_word2vec.wv:\n",
        "    print(f\"Vector embedding for '{word}':\\n{legal_word2vec.wv[word]}\\n\")\n",
        "else:\n",
        "    print(f\"Word '{word}' not found in the Word2Vec model.\")\n",
        "\n",
        "words_to_visualize = [\"court\", \"plaintiff\", \"defendant\", \"agreement\", \"lawyer\", \"evidence\", \"contract\", \"settlement\", \"jury\", \"damages\"]\n",
        "word_vectors = [legal_word2vec.wv[word] for word in words_to_visualize]\n",
        "\n",
        "word_vectors\n"
      ]
    },
    {
      "cell_type": "code",
      "source": [
        "pca = PCA(n_components=2)\n",
        "reduced_vectors = pca.fit_transform(word_vectors)\n",
        "reduced_vectors"
      ],
      "metadata": {
        "id": "ctJbMR-OLlms"
      },
      "execution_count": null,
      "outputs": []
    },
    {
      "cell_type": "code",
      "source": [
        "plt.figure(figsize=(10, 8))\n",
        "for i, word in enumerate(words_to_visualize):\n",
        "  plt.scatter(reduced_vectors[i, 0], reduced_vectors[i, 1])\n",
        "  plt.text(reduced_vectors[i, 0] + 0.002, reduced_vectors[i, 1], word, fontsize=12)\n",
        "plt.title(\"PCA Visualization of Legal Word Embeddings\")\n",
        "plt.xlabel(\"PCA Dimension 1\")\n",
        "plt.ylabel(\"PCA Dimension 2\")\n",
        "plt.show()"
      ],
      "metadata": {
        "id": "BsgVFY5oLmWn"
      },
      "execution_count": null,
      "outputs": []
    },
    {
      "cell_type": "code",
      "source": [
        "similar_words = legal_word2vec.wv.most_similar(\"lawyer\", topn=5)\n",
        "print(f\"Words similar to 'lawyer': {similar_words}\")"
      ],
      "metadata": {
        "id": "9d3vPJPLLs-X"
      },
      "execution_count": null,
      "outputs": []
    },
    {
      "cell_type": "code",
      "source": [
        "from gensim.models import Word2Vec\n",
        "from gensim.utils import simple_preprocess\n",
        "from sklearn.decomposition import PCA\n",
        "import matplotlib.pyplot as plt\n",
        "\n",
        "\n",
        "enhanced_corpus = [\n",
        "    # Legal domain\n",
        "    \"The court ordered the immediate release of the detained individual due to lack of evidence.\",\n",
        "    \"A new amendment was introduced to ensure the protection of intellectual property rights.\",\n",
        "    \"The defendant pleaded not guilty, citing an alibi supported by credible witnesses.\",\n",
        "    \"The plaintiff accused the company of violating environmental regulations.\",\n",
        "    \"A settlement agreement was reached through arbitration, avoiding a lengthy trial.\",\n",
        "    \"The legal team presented a compelling argument to overturn the previous judgment.\",\n",
        "    \"Contractual obligations must be fulfilled unless waived by mutual consent.\",\n",
        "    \"The jury found the accused guilty of fraud and embezzlement.\",\n",
        "    \"The appeal was dismissed as the evidence presented was deemed inadmissible.\",\n",
        "    \"The attorney emphasized the importance of adhering to constitutional rights.\",\n",
        "\n",
        "    # Medical domain\n",
        "    \"The patient was admitted to the emergency department with severe chest pain.\",\n",
        "    \"The surgeon successfully performed a minimally invasive procedure to remove the tumor.\",\n",
        "    \"Clinical trials showed significant improvement in patients treated with the experimental drug.\",\n",
        "    \"Regular screening is essential for early detection of chronic illnesses such as diabetes.\",\n",
        "    \"The doctor recommended physical therapy to improve mobility after surgery.\",\n",
        "    \"The hospital implemented stringent protocols to prevent the spread of infectious diseases.\",\n",
        "    \"The nurse monitored the patient's vital signs hourly to ensure stability.\",\n",
        "    \"Vaccination campaigns have drastically reduced the prevalence of polio worldwide.\",\n",
        "    \"The radiologist identified a small abnormality in the CT scan requiring further investigation.\",\n",
        "    \"Proper nutrition and exercise are vital components of a healthy lifestyle.\"\n",
        "]\n",
        "\n",
        "tokenized_corpus = [simple_preprocess(sentence) for sentence in\n",
        "enhanced_corpus]\n",
        "tokenized_corpus"
      ],
      "metadata": {
        "id": "1qfPdSAIL0kC"
      },
      "execution_count": null,
      "outputs": []
    },
    {
      "cell_type": "code",
      "source": [
        "domain_word2vec = Word2Vec(\n",
        "    sentences=tokenized_corpus,\n",
        "    vector_size=100,\n",
        "    window=5,\n",
        "    min_count=1,\n",
        "    sg=1,\n",
        "    epochs=150\n",
        ")\n",
        "domain_word2vec.save(\"enhanced_domain_word2vec.model\")"
      ],
      "metadata": {
        "id": "zsfQUlW1MYES"
      },
      "execution_count": null,
      "outputs": []
    },
    {
      "cell_type": "code",
      "source": [
        "words_to_analyze = [\"court\", \"plaintiff\", \"doctor\", \"patient\", \"guilty\", \"surgery\"]\n",
        "for word in words_to_analyze:\n",
        "  if word in domain_word2vec.wv:\n",
        "    print(f\"Vector embedding for '{word}':\\n{domain_word2vec.wv[word]}\\n\")\n",
        "  else:\n",
        "    print(f\"Word '{word}' not found in the Word2Vec model.\")"
      ],
      "metadata": {
        "id": "Ypbbk617NGjV"
      },
      "execution_count": null,
      "outputs": []
    },
    {
      "cell_type": "code",
      "source": [
        "selected_words = [\"court\", \"plaintiff\", \"defendant\", \"guilty\", \"jury\", \"patient\", \"doctor\", \"hospital\", \"surgery\", \"emergency\"]\n",
        "word_vectors = [domain_word2vec.wv[word] for word in selected_words]\n",
        "word_vectors"
      ],
      "metadata": {
        "id": "cvThlJ81NQxf"
      },
      "execution_count": null,
      "outputs": []
    },
    {
      "cell_type": "code",
      "source": [
        "pca = PCA(n_components=2)\n",
        "reduced_vectors = pca.fit_transform(word_vectors)\n",
        "reduced_vectors"
      ],
      "metadata": {
        "id": "CqemmIkxNXFG"
      },
      "execution_count": null,
      "outputs": []
    },
    {
      "cell_type": "code",
      "source": [
        "plt.figure(figsize=(12, 8))\n",
        "for i, word in enumerate(selected_words):\n",
        "  plt.scatter(reduced_vectors[i, 0], reduced_vectors[i, 1])\n",
        "  plt.text(reduced_vectors[i, 0] + 0.002, reduced_vectors[i, 1],\n",
        "word, fontsize=12)\n",
        "plt.title(\"PCA Visualization of Legal and Medical Word Embeddings\")\n",
        "plt.xlabel(\"PCA Dimension 1\")\n",
        "plt.ylabel(\"PCA Dimension 2\")\n",
        "plt.show()"
      ],
      "metadata": {
        "id": "xSg78P3qNXsB"
      },
      "execution_count": null,
      "outputs": []
    }
  ]
}