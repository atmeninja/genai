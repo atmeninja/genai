{
  "nbformat": 4,
  "nbformat_minor": 0,
  "metadata": {
    "colab": {
      "provenance": []
    },
    "kernelspec": {
      "name": "python3",
      "display_name": "Python 3"
    },
    "language_info": {
      "name": "python"
    }
  },
  "cells": [
    {
      "cell_type": "code",
      "source": [
        "from gensim.scripts.glove2word2vec import glove2word2vec\n",
        "from gensim.models import KeyedVectors\n",
        "\n",
        "glove_input_file = \"/content/glove.6B.100d.txt\"\n",
        "word2vec_output_file = \"/content/glove.6B.100d.word2vec.txt\"\n",
        "\n",
        "glove2word2vec(glove_input_file, word2vec_output_file)\n",
        "\n",
        "model = KeyedVectors.load_word2vec_format(word2vec_output_file,\n",
        "binary=False)\n",
        "\n",
        "print(model.most_similar(\"king\"))"
      ],
      "metadata": {
        "id": "6vzRJEf2_dcz"
      },
      "execution_count": null,
      "outputs": []
    },
    {
      "cell_type": "code",
      "source": [
        "similar_to_mysore = model.similar_by_vector(model['mysore'], topn=5)\n",
        "print(f\"Words similar to 'mysore': {similar_to_mysore}\")"
      ],
      "metadata": {
        "id": "1J1l-6nLFVl2"
      },
      "execution_count": null,
      "outputs": []
    },
    {
      "cell_type": "code",
      "source": [
        "result_vector_1 = model['actor'] - model['man'] + model['woman']\n",
        "\n",
        "result_1 = model.similar_by_vector(result_vector_1, topn=1)\n",
        "print(f\"'actor - man + woman' = {result_1}\")"
      ],
      "metadata": {
        "id": "9NTyAIEW_i48"
      },
      "execution_count": null,
      "outputs": []
    },
    {
      "cell_type": "code",
      "source": [
        "result_vector_2 = model['india'] - model['delhi'] + model['washington']\n",
        "\n",
        "result_2 = model.similar_by_vector(result_vector_2, topn=3)\n",
        "print(f\"'India - Delhi + Washington' = {result_2}\")"
      ],
      "metadata": {
        "id": "ojUvU3zV_qHn"
      },
      "execution_count": null,
      "outputs": []
    },
    {
      "cell_type": "code",
      "source": [
        "scaled_vector = model['hotel'] * 2\n",
        "result_2 = model.similar_by_vector(scaled_vector, topn=3)\n",
        "result_2"
      ],
      "metadata": {
        "id": "d3u-IOb-_vcD"
      },
      "execution_count": null,
      "outputs": []
    },
    {
      "cell_type": "code",
      "source": [
        "import numpy as np\n",
        "normalized_vector = model['fish'] / np.linalg.norm(model['fish'])\n",
        "result_2 = model.similar_by_vector(normalized_vector, topn=3)\n",
        "result_2"
      ],
      "metadata": {
        "id": "GGVnxum4_ymd"
      },
      "execution_count": null,
      "outputs": []
    },
    {
      "cell_type": "code",
      "source": [
        "average_vector = (model['king'] + model['woman'] + model['man']) / 3\n",
        "result_2 = model.similar_by_vector(average_vector, topn=3)\n",
        "result_2"
      ],
      "metadata": {
        "id": "nCxDKcbg_4rg"
      },
      "execution_count": null,
      "outputs": []
    },
    {
      "cell_type": "code",
      "source": [
        "glove_input_file = \"/content/glove.6B.50d.txt\"\n",
        "word2vec_output_file = \"/content/glove.6B.50d.word2vec.txt\"\n",
        "\n",
        "glove2word2vec(glove_input_file, word2vec_output_file)\n",
        "\n",
        "model_50d = KeyedVectors.load_word2vec_format(word2vec_output_file,\n",
        "binary=False)\n",
        "\n",
        "glove_input_file = \"/content/glove.6B.100d.txt\"\n",
        "word2vec_output_file = \"/content/glove.6B.100d.word2vec.txt\"\n",
        "\n",
        "glove2word2vec(glove_input_file, word2vec_output_file)\n",
        "\n",
        "model_100d = KeyedVectors.load_word2vec_format(word2vec_output_file,\n",
        "binary=False)"
      ],
      "metadata": {
        "id": "S_yblTMx_6s4"
      },
      "execution_count": null,
      "outputs": []
    },
    {
      "cell_type": "code",
      "source": [
        "word1 = \"hospital\"\n",
        "word2 = \"doctor\"\n",
        "\n",
        "similarity_50d = model_50d.similarity(word1, word2)\n",
        "\n",
        "similarity_100d = model_100d.similarity(word1, word2)\n",
        "\n",
        "print(f\"Similarity (50d) between '{word1}' and '{word2}': {similarity_50d:.4f}\")\n",
        "print(f\"Similarity (100d) between '{word1}' and '{word2}': {similarity_100d:.4f}\")"
      ],
      "metadata": {
        "id": "iAK2RaIOAHro"
      },
      "execution_count": null,
      "outputs": []
    },
    {
      "cell_type": "code",
      "source": [
        "distance_50d = model_50d.distance(word1, word2)\n",
        "distance_100d = model_100d.distance(word1, word2)\n",
        "print(f\"Distance (50d) between '{word1}' and '{word2}': {distance_50d:.4f}\")\n",
        "print(f\"Distance (100d) between '{word1}' and '{word2}': {distance_100d:.4f}\")"
      ],
      "metadata": {
        "id": "GIeixK1oAPVV"
      },
      "execution_count": null,
      "outputs": []
    }
  ]
}