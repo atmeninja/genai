{
  "cells": [
    {
      "cell_type": "code",
      "execution_count": null,
      "metadata": {
        "id": "xMHDQWtrNv6U"
      },
      "outputs": [],
      "source": [
        "pip install transformers –U\n",
        "from gensim.scripts.glove2word2vec import glove2word2vec\n",
        "from gensim.models import KeyedVectors\n",
        "\n",
        "glove_input_file = \"/content/glove.6B.100d.txt\"\n",
        "word2vec_output_file = \"/content/glove.6B.100d.word2vec.txt\"\n",
        "\n",
        "glove2word2vec(glove_input_file, word2vec_output_file)\n",
        "\n",
        "model = KeyedVectors.load_word2vec_format(word2vec_output_file,\n",
        "binary=False)\n",
        "\n",
        "print(model.most_similar(\"king\"))"
      ]
    },
    {
      "cell_type": "code",
      "execution_count": null,
      "metadata": {
        "id": "pgZXXSaQOCcv"
      },
      "outputs": [],
      "source": [
        "original_prompt = \"Explain the importance of vaccinations in healthcare.\"\n",
        "\n",
        "key_terms = [\"vaccinations\", \"healthcare\"]\n",
        "\n",
        "similar_terms = []\n",
        "\n",
        "for term in key_terms:\n",
        "\n",
        "    if term in model.key_to_index:\n",
        "        similar_terms.extend({word for word, _ in model.most_similar(term, topn=3)})\n",
        "\n",
        "if similar_terms:\n",
        "    enriched_prompt = f\"{original_prompt} Consider aspects like: {', '.join(similar_terms)}.\"\n",
        "else:\n",
        "    enriched_prompt = original_prompt\n",
        "\n",
        "print(\"Original Prompt:\", original_prompt)\n",
        "print(\"Enriched Prompt:\", enriched_prompt)"
      ]
    },
    {
      "cell_type": "code",
      "execution_count": null,
      "metadata": {
        "id": "ffgo6mroOfas"
      },
      "outputs": [],
      "source": [
        "import getpass\n",
        "import os\n",
        "GOOGLE_API_KEY= os.environ[\"GOOGLE_API_KEY\"] = getpass.getpass(\"Enter your Google AI API key: \")"
      ]
    },
    {
      "cell_type": "code",
      "execution_count": null,
      "metadata": {
        "id": "RwkgVZBOOk5v"
      },
      "outputs": [],
      "source": [
        "from langchain_google_genai import ChatGoogleGenerativeAI\n",
        "llm = ChatGoogleGenerativeAI(\n",
        "    model=\"gemini-2.0-flash-exp\",\n",
        "    temperature=0,\n",
        "    api_key=GOOGLE_API_KEY,\n",
        "    max_tokens=256,\n",
        "    timeout=None,\n",
        "    max_retries=2,\n",
        ")"
      ]
    },
    {
      "cell_type": "code",
      "execution_count": null,
      "metadata": {
        "id": "Ias4PWxiOvnj"
      },
      "outputs": [],
      "source": [
        "llm.invoke(\"Hi\")"
      ]
    },
    {
      "cell_type": "code",
      "execution_count": null,
      "metadata": {
        "id": "QGpS738tOztD"
      },
      "outputs": [],
      "source": [
        "print(llm.invoke(original_prompt).content)"
      ]
    }
  ],
  "metadata": {
    "colab": {
      "provenance": []
    },
    "kernelspec": {
      "display_name": "Python 3",
      "name": "python3"
    },
    "language_info": {
      "name": "python"
    }
  },
  "nbformat": 4,
  "nbformat_minor": 0
}
